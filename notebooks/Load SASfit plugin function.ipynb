{
 "cells": [
  {
   "cell_type": "markdown",
   "id": "34851a45-334e-4462-8b6b-000b54050189",
   "metadata": {
    "tags": []
   },
   "source": [
    "# Search and load a SASfit plugin function with Python\n",
    "by Gonzalo Rumi, with modifications by Ingo Breßler"
   ]
  },
  {
   "cell_type": "markdown",
   "id": "ece35344",
   "metadata": {},
   "source": [
    "## Look for a _plugin_ function\n",
    "\n",
    "With the following code, you can search for a function and obtain information about its parameters"
   ]
  },
  {
   "cell_type": "code",
   "execution_count": 8,
   "id": "27c90882-581a-4945-86b1-2a158f4f436d",
   "metadata": {
    "tags": []
   },
   "outputs": [
    {
     "name": "stdout",
     "output_type": "stream",
     "text": [
      "C:\\Users\\kohlbrecher\\switchdrive\n"
     ]
    }
   ],
   "source": [
    "# Using Path in contemporary Python provides easy&safe helper functions\n",
    "from pathlib import Path\n",
    "sasfit_path = Path().resolve().parent.parent\n",
    "print(sasfit_path)\n",
    "# override here if libsasfit is found somewhere else\n",
    "# sasfit_path = Path(r\"Y:\\shared\\SASfit-0.94.12-windows64\")\n",
    "assert sasfit_path.is_dir(), \"Directory 'sasfit_path' not found!\""
   ]
  },
  {
   "cell_type": "code",
   "execution_count": 10,
   "id": "0bf95878-4a06-4b0c-9b49-07c0d6a67365",
   "metadata": {
    "tags": []
   },
   "outputs": [],
   "source": [
    "#\n",
    "# This code gets all information about all the functions available as dll files\n",
    "#\n",
    "\n",
    "import os\n",
    "\n",
    "# we get a list of the .dll files in the plugin folder\n",
    "plugin_list = [\n",
    "    fn.stem[10:]\n",
    "    for fn in (sasfit_path / \"SASfitGit/plugins\").iterdir()\n",
    "    if fn.name.startswith(\"libsasfit_\") and fn.suffix == \".dll\"\n",
    "]\n",
    "#plugin_list"
   ]
  },
  {
   "cell_type": "code",
   "execution_count": 12,
   "id": "512573b7-d6c9-4f79-aed1-79c5677e4ade",
   "metadata": {
    "tags": []
   },
   "outputs": [],
   "source": [
    "from pprint import pprint\n",
    "\n",
    "# we extract information about the functions stored in each of the header files\n",
    "functions = {}\n",
    "debug = False\n",
    "for plugin in plugin_list: # please use variables names telling something about their purpose\n",
    "    filename = sasfit_path / \"SASfitGit/plugins\" / f\"sasfit_{plugin}.h\"\n",
    "    if debug:\n",
    "        print(filename)\n",
    "    with open(filename) as fh: # always use 'with' scope, handles file closing on exceptions for you\n",
    "        try:\n",
    "            for x in fh.read().split(\"/* ################ start \")[1:]:\n",
    "                ftype = x[:2]\n",
    "                name = (x[3:].split(\" ################ */\"))[0]\n",
    "                description = (x.split(\"* \\\\brief\")[1]).split(\n",
    "                    \"<more detailed documentation, see 'doxygen' docs>\"\n",
    "                )[0].splitlines()\n",
    "                # filter out leading ' *' C-style comments from 2nd line on\n",
    "                description = \"\".join([description[0]]\n",
    "                                        +[line.strip().removeprefix(\"*\")\n",
    "                                          for line in description[2:]]).strip()\n",
    "                #print(f\"{ftype=}, {name=}, {description=}\")\n",
    "\n",
    "                parameters_section = x.split(\"\\\\par Required parameters:\")[1].split(\"</table>\")[0]\n",
    "                #print(1,f\"{parameters_section=}\")\n",
    "                # extract parameter name and description\n",
    "                parameters = [par_field.split(\"</td>\")[0].removeprefix(r\"\\b\").strip()\n",
    "                              for par_field in parameters_section.split(\"<td>\")][1:]\n",
    "                # group parameters to (name, description) tuples\n",
    "                parameters = list(zip(*(iter(parameters),)*2))\n",
    "                functions[name] = {\n",
    "                    \"name\": name,\n",
    "                    \"type\": ftype,\n",
    "                    \"description\": description,\n",
    "                    \"parameters\": parameters,\n",
    "                    \"group\": plugin, # this should be 'plugin' instead of 'group', right?\n",
    "                                     # perhaps, confused with SF plugin groups defined in .def files\n",
    "                }\n",
    "                if debug:\n",
    "                    pprint(functions[name])\n",
    "                    print()\n",
    "        except:\n",
    "            raise\n",
    "            print(\"\\n\")  # Error retrieving parameters for \"+i+\"\\n\\n\")\n"
   ]
  },
  {
   "cell_type": "code",
   "execution_count": 13,
   "id": "ab3ab0db-dbbd-4bb6-b83c-1b2bd28f0c55",
   "metadata": {
    "tags": []
   },
   "outputs": [
    {
     "name": "stdout",
     "output_type": "stream",
     "text": [
      "\n",
      " * * * * * * *\n",
      "\n"
     ]
    }
   ],
   "source": [
    "search = input(\" * * * * * * *\\nSearch for a particular function:\")\n",
    "print(\"\\n * * * * * * *\\n\")\n",
    "\n",
    "for func in functions: # please use variables names telling something about their purpose\n",
    "    if search in func:\n",
    "        print(func + \"\\n\")\n",
    "        print(functions[func][\"description\"])\n",
    "        print(\"\\nParameters:\\n\")\n",
    "        for p in functions[func][\"parameters\"]:\n",
    "            print(\":\\t\".join(p))\n",
    "        print(\"\\n * * * * * * *\\n\")"
   ]
  },
  {
   "cell_type": "markdown",
   "id": "6399d03d",
   "metadata": {},
   "source": [
    "## Obtain the values for a function by means of the _.dll_ file\n",
    "\n",
    "You can copy the name and group of the function you looked for above and obtain useful values for your code."
   ]
  },
  {
   "cell_type": "markdown",
   "id": "4e7d4dc6-3275-4168-b827-13b885fe4195",
   "metadata": {},
   "source": [
    "### Required imports"
   ]
  },
  {
   "cell_type": "code",
   "execution_count": 14,
   "id": "27978334-7e7b-4b7b-be04-8346233a1a76",
   "metadata": {
    "tags": []
   },
   "outputs": [],
   "source": [
    "import matplotlib.pyplot as plt\n",
    "import numpy as np\n",
    "import ctypes\n",
    "from ctypes import *\n",
    "import sys\n",
    "import os"
   ]
  },
  {
   "cell_type": "code",
   "execution_count": 15,
   "id": "023e13c6-bad6-488a-b118-38d543698b15",
   "metadata": {
    "tags": []
   },
   "outputs": [],
   "source": [
    "# Using Path in contemporary Python provides easy&safe helper functions\n",
    "from pathlib import Path\n",
    "sasfit_path = Path().resolve().parent.parent\n",
    "# override here if libsasfit is found somewhere else\n",
    "# sasfit_path = Path(r\"Y:\\shared\\SASfit-0.94.12-windows64\")\n",
    "assert sasfit_path.is_dir(), \"Directory 'sasfit_path' not found!\""
   ]
  },
  {
   "cell_type": "markdown",
   "id": "0ce3e7ab-3910-42ff-ac08-ffefc0695300",
   "metadata": {},
   "source": [
    "## Load main SASfit DLL and init the Plugin"
   ]
  },
  {
   "cell_type": "markdown",
   "id": "f6485ecb-b8bd-4384-be70-52a05061c465",
   "metadata": {
    "tags": []
   },
   "source": [
    "### Need to define the SASfit parameter structure first\n",
    "Needed to get error messages and such ..."
   ]
  },
  {
   "cell_type": "code",
   "execution_count": 16,
   "id": "38b626f1-4614-4165-84cc-7d6e156050c4",
   "metadata": {
    "tags": []
   },
   "outputs": [],
   "source": [
    "# has to match the value in\n",
    "# https://github.com/SASfit/SASfit/blob/master/src/sasfit_common/include/sasfit_constants.h#L45\n",
    "MAXPAR = 50\n",
    "STRLEN = 256 # defined below MAXPAR in the same file\n",
    "\n",
    "# defining an equivalent of the C sasfit_param struct\n",
    "# https://github.com/SASfit/SASfit/blob/master/src/sasfit_common/include/sasfit_function.h#L146\n",
    "# according to https://docs.python.org/3/library/ctypes.html#structures-and-unions\n",
    "class SASFIT_PARAM(ctypes.Structure):\n",
    "    _fields_ = [(\"p\", ctypes.c_double * MAXPAR),\n",
    "                # sasfit_kernel_type, numbered sequentially, in:\n",
    "                # https://github.com/SASfit/SASfit/blob/master/src/sasfit_common/include/sasfit_function.h#L118\n",
    "                (\"kernelSelector\", ctypes.c_int),\n",
    "                (\"kernelSubSelector\", ctypes.c_int),\n",
    "                (\"errStr\", ctypes.c_char * STRLEN),\n",
    "                (\"errLen\", ctypes.c_int),\n",
    "                (\"errStatus\", ctypes.c_int),\n",
    "                (\"xarr\", ctypes.c_void_p),\n",
    "                (\"yarr\", ctypes.c_void_p),\n",
    "                (\"moreparam\", ctypes.c_void_p),\n",
    "                (\"more_p\", ctypes.c_double * MAXPAR),\n",
    "                # function pointer, set to void* for now, not sure where this is used\n",
    "                (\"function\", ctypes.c_void_p)\n",
    "               ]"
   ]
  },
  {
   "cell_type": "markdown",
   "id": "91890ac9-847f-4c85-a52f-8f949f9309a9",
   "metadata": {},
   "source": [
    "### Rebuilding SASfit data structures at play\n",
    "Required for plugin management functions, such as setting the *stub* pointer (points to a table of internal SASfit functions, also some frequently used numerical algos). *SASfit does this for each plugin it loads.*"
   ]
  },
  {
   "cell_type": "code",
   "execution_count": 17,
   "id": "9e5ff750-992d-4b5f-ac97-8f348d72ef3e",
   "metadata": {
    "tags": []
   },
   "outputs": [],
   "source": [
    "## Python implementation of *examples/example_sasfit_ff_fuzzysphere.c*\n",
    "SASFIT_FUNC_ONE_T = CFUNCTYPE(c_double, c_double, POINTER(SASFIT_PARAM))\n",
    "SASFIT_FUNC_VOL_T = CFUNCTYPE(c_double, c_double, POINTER(SASFIT_PARAM), c_int)\n",
    "class SASFIT_PLUGIN_FUNC_T(ctypes.Structure):\n",
    "    _fields_ = [(\"len\", ctypes.c_int),\n",
    "                (\"name\", ctypes.c_char_p),\n",
    "                (\"func\", POINTER(SASFIT_FUNC_ONE_T)),\n",
    "                (\"func_f\", POINTER(SASFIT_FUNC_ONE_T)),\n",
    "                (\"func_v\", POINTER(SASFIT_FUNC_VOL_T)),]\n",
    "class SASFIT_PLUGIN_INFO_T(ctypes.Structure):\n",
    "    _fields_ = [(\"num\", ctypes.c_int),\n",
    "                (\"functions\", POINTER(SASFIT_PLUGIN_FUNC_T))]\n",
    "class SASFIT_COMMON_STUBS_T(ctypes.Structure):\n",
    "    _fields_ = [(\"func\", ctypes.c_void_p*155),\n",
    "                ]"
   ]
  },
  {
   "cell_type": "markdown",
   "id": "73bfd62c-bc65-4acc-9d0a-463b88a2b5bd",
   "metadata": {},
   "source": [
    "### Mind the stubs!\n",
    "It is important to call each plugins `do_init()` function first. Most importantly, it sets the *stubs* pointer which gives access to SASfits internal functions, such as `sasfit_param_set_err()` (called by `CHECK_COND*()`) and many numerical routines. They do not appear as DLL dependencies. The stub pointer is set pointing to a sasfit.dll structure during plugin loading which has to be replicated with python."
   ]
  },
  {
   "cell_type": "code",
   "execution_count": 18,
   "id": "f2edc222-9cf1-4a9c-b5fd-570e9f18f194",
   "metadata": {
    "tags": []
   },
   "outputs": [
    {
     "name": "stdout",
     "output_type": "stream",
     "text": [
      "C:\\Users\\kohlbrecher\\switchdrive\\SASfitGit\n"
     ]
    }
   ],
   "source": [
    "sasfit_path = Path(\"C:\\\\Users\\\\kohlbrecher\\\\switchdrive\\\\SASfitGit\")\n",
    "assert sasfit_path.is_dir(), \"Directory 'sasfit_path' not found!\"\n",
    "os.chdir(sasfit_path) # needs to load dependent libs in main dir\n",
    "print(sasfit_path)\n",
    "SASFIT_CORE_DLL = cdll.LoadLibrary(str(sasfit_path / \"libsasfit.dll\"))\n",
    "SASFIT_PLUGIN_DLL = cdll.LoadLibrary(str(sasfit_path / \"plugins/libsasfit_t_r_y.dll\" ))"
   ]
  },
  {
   "cell_type": "code",
   "execution_count": 19,
   "id": "7c53b6c3-7a01-4049-8eff-c5091b3b90cf",
   "metadata": {
    "tags": []
   },
   "outputs": [
    {
     "name": "stdout",
     "output_type": "stream",
     "text": [
      "Initializing plugin ...\n",
      "success.\n"
     ]
    }
   ],
   "source": [
    "print(\"Initializing plugin ...\")\n",
    "pi = (POINTER(SASFIT_PLUGIN_INFO_T)*1)()\n",
    "bool(pi) # a test\n",
    "SASFIT_CORE_DLL.sasfit_common_stubs_ptr.restype = POINTER(SASFIT_COMMON_STUBS_T)\n",
    "SASFIT_PLUGIN_DLL.do_init.restype = ctypes.c_int\n",
    "if bool(SASFIT_PLUGIN_DLL.do_init(byref(pi),\n",
    "                                SASFIT_CORE_DLL.sasfit_common_stubs_ptr(),\n",
    "                                SASFIT_CORE_DLL.sasfit_plugin_search)):\n",
    "    print(\"success.\")\n",
    "else:\n",
    "    print(\"There is a problem!\")"
   ]
  },
  {
   "cell_type": "code",
   "execution_count": null,
   "id": "b107cc88-bac8-4397-8e88-28e139f8e743",
   "metadata": {
    "tags": []
   },
   "outputs": [
    {
     "data": {
      "image/png": "[encoded data removed]",
      "text/plain": [
       "<Figure size 640x480 with 1 Axes>"
      ]
     },
     "metadata": {},
     "output_type": "display_data"
    }
   ],
   "source": [
    "def read_dll(xvec, *args):\n",
    "    #read_gaussian = cdll.LoadLibrary(str(sasfit_path / \"plugins\" / \"libsasfit_peak.dll\")).sasfit_peak_gaussian_amplitude\n",
    "    read_fgld_profile = SASFIT_PLUGIN_DLL.sasfit_ff_fgld_profile\n",
    "#    read_gpolymer= cdll.LoadLibrary(\"C:\\SASfit-0.94.12\\plugins\\libsasfit_polymer_chains.dll\").sasfit_ff_gauspoly\n",
    "#    read_HS=cdll.LoadLibrary(\"C:\\SASfit-0.94.12\\plugins\\libsasfit_hard_spheres.dll\").sasfit_sq_hard_sphere__4_3_\n",
    "    \n",
    "    read_fgld_profile.restype = c_double\n",
    "    \n",
    "    par = SASFIT_PARAM((args[:3]+(0, 0)+args[3:]))\n",
    "    #par.p[2] *= -1 # SASFIT_CHECK_COND1() raising an error here\n",
    "    par.p[0] = 1\n",
    "    par.p[1] = 0\n",
    "    par.p[2] = 98.1446\n",
    "    par.p[3] = 1\n",
    "    par.p[4] = 5.70225\n",
    "    par.p[5] = -85.711\n",
    "    par.p[6] = 16.731\n",
    "    par.p[7] = -4.829\n",
    "    par.p[8] = 10.1836\n",
    "    par.p[9] = 1\n",
    "    # list comprehensions are faster typically\n",
    "    result = [read_fgld_profile(c_double(x), byref(par)) for x in xvec]\n",
    "    assert not par.errStatus, par.errStr.decode(\"utf8\")\n",
    "    return result\n",
    "\n",
    "xvec = np.arange(0, 111, 1)\n",
    "plt.ion()\n",
    "plt.plot(xvec, read_dll(xvec, 1, 4, 2.2, 0.2))\n",
    "plt.show()"
   ]
  },
  {
   "cell_type": "code",
   "execution_count": 30,
   "id": "c244a9e7",
   "metadata": {
    "tags": []
   },
   "outputs": [
    {
     "data": {
      "text/plain": [
       "1.0"
      ]
     },
     "execution_count": 30,
     "metadata": {},
     "output_type": "execute_result"
    }
   ],
   "source": [
    "import ctypes\n",
    "from ctypes import *\n",
    "import sys\n",
    "import os\n",
    "\n",
    "sasfit_ff_fgld_profile=SASFIT_PLUGIN_DLL.sasfit_ff_fgld_profile\n",
    "\n",
    "par=(ctypes.c_double * 10)(*[1, 0, 1446, 1, 5.70225, -85.711, 16.731, -4.829, 10.1836, 1])\n",
    "\n",
    "sasfit_ff_fgld_profile.restype = c_double\n",
    "\n",
    "sasfit_ff_fgld_profile(c_double(112), POINTER(c_double)(par))"
   ]
  },
  {
   "cell_type": "code",
   "execution_count": null,
   "id": "7855c843-f6de-400f-a159-f2f3b5e09e01",
   "metadata": {
    "tags": []
   },
   "outputs": [],
   "source": []
  },
  {
   "cell_type": "code",
   "execution_count": null,
   "id": "02715ef1-4b27-4325-a673-df491470423c",
   "metadata": {
    "tags": []
   },
   "outputs": [],
   "source": []
  },
  {
   "cell_type": "code",
   "execution_count": null,
   "id": "05a9371d-c8c4-4949-b523-e91256a0738b",
   "metadata": {},
   "outputs": [],
   "source": []
  },
  {
   "cell_type": "code",
   "execution_count": null,
   "id": "2e1fa97f-a9c0-4c61-96f5-59e2606df5d3",
   "metadata": {
    "tags": []
   },
   "outputs": [],
   "source": []
  },
  {
   "cell_type": "code",
   "execution_count": null,
   "id": "f8c4f73c-cb99-4c65-b17c-fa1246febd6f",
   "metadata": {
    "tags": []
   },
   "outputs": [],
   "source": []
  },
  {
   "cell_type": "code",
   "execution_count": null,
   "id": "54b8d9de-5b18-42a3-8606-c1dc4891fbf1",
   "metadata": {
    "tags": []
   },
   "outputs": [],
   "source": []
  },
  {
   "cell_type": "code",
   "execution_count": null,
   "id": "0dde7bb2-cb7e-493d-ad90-43a5591bfa47",
   "metadata": {
    "tags": []
   },
   "outputs": [],
   "source": []
  },
  {
   "cell_type": "code",
   "execution_count": null,
   "id": "163e264d-8379-46ec-b755-bdb01458e3e6",
   "metadata": {
    "tags": []
   },
   "outputs": [],
   "source": []
  },
  {
   "cell_type": "code",
   "execution_count": null,
   "id": "e721dd8e-68af-47a4-a103-623f0e29c951",
   "metadata": {
    "tags": []
   },
   "outputs": [],
   "source": [
    "\n"
   ]
  },
  {
   "cell_type": "code",
   "execution_count": null,
   "id": "0978c7c8-3623-48f8-8fc9-c9ddc3293b1b",
   "metadata": {
    "tags": []
   },
   "outputs": [],
   "source": []
  },
  {
   "cell_type": "code",
   "execution_count": null,
   "id": "9af2ea71-4492-45b1-bd7e-4a161c50e7db",
   "metadata": {
    "tags": []
   },
   "outputs": [],
   "source": []
  },
  {
   "cell_type": "code",
   "execution_count": null,
   "id": "15f08b56-98bd-4942-82fe-2888966aa5bd",
   "metadata": {
    "tags": []
   },
   "outputs": [],
   "source": []
  },
  {
   "cell_type": "code",
   "execution_count": null,
   "id": "7a4e2d14-34ec-444f-8ebc-9b26fac2fe12",
   "metadata": {
    "tags": []
   },
   "outputs": [],
   "source": []
  },
  {
   "cell_type": "code",
   "execution_count": null,
   "id": "85f82b54-caab-4d55-a954-ab5ecef16d35",
   "metadata": {},
   "outputs": [],
   "source": []
  }
 ],
 "metadata": {
  "kernelspec": {
   "display_name": "Joachim",
   "language": "python",
   "name": "python3"
  },
  "language_info": {
   "codemirror_mode": {
    "name": "ipython",
    "version": 3
   },
   "file_extension": ".py",
   "mimetype": "text/x-python",
   "name": "python",
   "nbconvert_exporter": "python",
   "pygments_lexer": "ipython3",
   "version": "3.12.7"
  }
 },
 "nbformat": 4,
 "nbformat_minor": 5
}
